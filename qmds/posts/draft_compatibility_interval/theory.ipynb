{
 "cells": [
  {
   "cell_type": "raw",
   "id": "3807ac5a-2233-4b0d-9d06-9550cea921f5",
   "metadata": {},
   "source": [
    "---\n",
    "date: now\n",
    "code-fold: false\n",
    "format:\n",
    "  html:\n",
    "    other-links:\n",
    "      - text: 記事に戻る\n",
    "        href: ./index.html\n",
    "draft: true\n",
    "---"
   ]
  },
  {
   "cell_type": "code",
   "execution_count": 2,
   "id": "604e9b9e-6d81-4b8e-9e7b-d2dcb4102941",
   "metadata": {},
   "outputs": [
    {
     "name": "stdout",
     "output_type": "stream",
     "text": [
      "Quarto 1.6.40\n",
      "[✓] Checking environment information...\n",
      "      Quarto cache location: /root/.cache/quarto\n",
      "[✓] Checking versions of quarto binary dependencies...\n",
      "      Pandoc version 3.4.0: OK\n",
      "      Dart Sass version 1.70.0: OK\n",
      "      Deno version 1.46.3: OK\n",
      "      Typst version 0.11.0: OK\n",
      "[✓] Checking versions of quarto dependencies......OK\n",
      "[✓] Checking Quarto installation......OK\n",
      "      Version: 1.6.40\n",
      "      Path: /opt/quarto/bin\n",
      "\n",
      "[✓] Checking tools....................OK\n",
      "      TinyTeX: (not installed)\n",
      "      Chromium: (not installed)\n",
      "\n",
      "[✓] Checking LaTeX....................OK\n",
      "      Tex:  (not detected)\n",
      "\n",
      "[✓] Checking basic markdown render....OK\n",
      "\n",
      "[✓] Checking Python 3 installation....OK\n",
      "      Version: 3.12.3\n",
      "      Path: /web_source/.venv/bin/python3\n",
      "      Jupyter: 5.7.2\n",
      "      Kernels: python3, julia-1.11, ir\n",
      "\n",
      "[✓] Checking Jupyter engine render....OK\n",
      "\n",
      "[✓] Checking R installation...........OK\n",
      "      Version: 4.3.3\n",
      "      Path: /usr/lib/R\n",
      "      LibPaths:\n",
      "        - /usr/local/lib/R/site-library\n",
      "        - /usr/lib/R/site-library\n",
      "        - /usr/lib/R/library\n",
      "      knitr: (None)\n",
      "      rmarkdown: (None)\n",
      "\n",
      "      The knitr package is not available in this R installation.\n",
      "      Install with \u001b[1minstall.packages(\"knitr\")\u001b[22m\n",
      "      The rmarkdown package is not available in this R installation.\n",
      "      Install with \u001b[1minstall.packages(\"rmarkdown\")\u001b[22m\n",
      "\n"
     ]
    }
   ],
   "source": [
    "!quarto check"
   ]
  },
  {
   "cell_type": "code",
   "execution_count": null,
   "id": "95457782-9345-45e8-a07d-9f74ddf047c3",
   "metadata": {},
   "outputs": [],
   "source": []
  }
 ],
 "metadata": {
  "kernelspec": {
   "display_name": "Python 3 (ipykernel)",
   "language": "python",
   "name": "python3"
  },
  "language_info": {
   "codemirror_mode": {
    "name": "ipython",
    "version": 3
   },
   "file_extension": ".py",
   "mimetype": "text/x-python",
   "name": "python",
   "nbconvert_exporter": "python",
   "pygments_lexer": "ipython3",
   "version": "3.12.3"
  }
 },
 "nbformat": 4,
 "nbformat_minor": 5
}
