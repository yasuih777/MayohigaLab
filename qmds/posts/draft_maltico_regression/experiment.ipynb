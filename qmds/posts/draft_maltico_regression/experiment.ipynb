{
 "cells": [
  {
   "cell_type": "raw",
   "id": "9ed41da0-c95d-424a-b015-ef2347bbdd95",
   "metadata": {},
   "source": [
    "---\n",
    "draft: true\n",
    "---"
   ]
  }
 ],
 "metadata": {
  "kernelspec": {
   "display_name": "R",
   "language": "R",
   "name": "ir"
  },
  "language_info": {
   "name": ""
  }
 },
 "nbformat": 4,
 "nbformat_minor": 5
}
