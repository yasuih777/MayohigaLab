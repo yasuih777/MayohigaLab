{
  "cells": [
    {
      "cell_type": "markdown",
      "metadata": {},
      "source": [
        "# ウイルス感染症の数理シミュレーション（応用）: 補足資料"
      ],
      "id": "e471a2e5-d10f-41e6-97ef-bb01a3d855f2"
    },
    {
      "cell_type": "code",
      "execution_count": null,
      "metadata": {},
      "outputs": [],
      "source": [
        "---\n",
        "date: now\n",
        "code-fold: false\n",
        "format:\n",
        "  html:\n",
        "    other-links:\n",
        "      - text: 記事に戻る\n",
        "        href: ./index.html\n",
        "---"
      ],
      "id": "d3f871ca-8194-4de4-809a-46d89bf10c41"
    },
    {
      "cell_type": "markdown",
      "metadata": {},
      "source": [
        "Julia言語で書いている"
      ],
      "id": "1f614adb-4eaf-4e20-b6c5-8d91cecd264c"
    },
    {
      "cell_type": "code",
      "execution_count": 1,
      "metadata": {},
      "outputs": [],
      "source": [
        "using DifferentialEquations\n",
        "using ModelingToolkit\n",
        "using Plots"
      ],
      "id": "1fa68f82-421c-42b7-8552-a0118bb13a15"
    },
    {
      "cell_type": "markdown",
      "metadata": {},
      "source": [
        "# B型感染ウイルスの数理モデリング\n",
        "\n",
        "## 解離・接着までのモデル"
      ],
      "id": "31a60039-3f49-4d49-a817-d28fb88173a1"
    },
    {
      "cell_type": "code",
      "execution_count": null,
      "metadata": {},
      "outputs": [],
      "source": [
        "1. 初期値の設定\n",
        "2. パラメータの設定\n",
        "3. 微分方程式の定義\n",
        "4. 時間軸の設定\n",
        "5. 微分方程式の逐次計算"
      ],
      "id": "a3d565b2-96d7-4f8d-b41c-6932efe67e6c"
    },
    {
      "cell_type": "code",
      "execution_count": 2,
      "metadata": {},
      "outputs": [],
      "source": [
        "let\n",
        "    @independent_variables t\n",
        "    @variables V_dis(t)=1.0 V_att(t)=150.0\n",
        "    @parameters k_dis=3.4 k_att=0.16\n",
        "    \n",
        "    D = Differential(t)\n",
        "    eqs = [\n",
        "        D(V_dis) ~ k_dis * V_att - k_att * V_dis\n",
        "        D(V_att) ~ k_att * V_dis - k_dis * V_att\n",
        "    ]\n",
        "    @mtkbuild sys = ODESystem(eqs, t)\n",
        "    \n",
        "    tspan = (0.0, 30.0)\n",
        "    prob = ODEProblem(sys, [], tspan)\n",
        "    sol = solve(prob)\n",
        "    \n",
        "    dinamics_plot = plot(\n",
        "        sol[t],\n",
        "        [sol[V_dis], sol[V_att]],\n",
        "        title=\"Virus dinamics\",\n",
        "        xlabel=\"Hour\",\n",
        "        ylabel=\"Virus\",\n",
        "        label=[\"dissociate\" \"attach\"],\n",
        "        color=[:blue :orange],\n",
        "    )\n",
        "        \n",
        "    plot(\n",
        "        dinamics_plot,\n",
        "        size=(600, 300),\n",
        "        left_margin = 20Plots.px,\n",
        "        bottom_margin = 20Plots.px,\n",
        "        legend=:outertopright,\n",
        "    )\n",
        "end"
      ],
      "id": "cell-fig-HBV-middle"
    },
    {
      "cell_type": "markdown",
      "metadata": {},
      "source": [
        "## 全状態を考慮したモデル"
      ],
      "id": "3ae307b9-f911-448e-a157-27e8eecfb88b"
    },
    {
      "cell_type": "code",
      "execution_count": null,
      "metadata": {},
      "outputs": [],
      "source": [
        "1. 初期値の設定\n",
        "2. パラメータの設定\n",
        "3. 微分方程式の定義\n",
        "4. 時間軸の設定\n",
        "5. 微分方程式の逐次計算"
      ],
      "id": "32aa5a6e-9209-4c0b-b8e3-c2da2037b7a1"
    },
    {
      "cell_type": "code",
      "execution_count": 4,
      "metadata": {},
      "outputs": [],
      "source": [
        "let\n",
        "    v::Dict{String, Float64} = Dict(\n",
        "        \"V_dis\" => 1.0,\n",
        "        \"V_att\" => 150.0,\n",
        "        \"V_int\" => 1.0,\n",
        "        \"V_ccc\" => 1.0,\n",
        "    )\n",
        "    p::Dict{String, Float64} = Dict(\n",
        "        \"k_dis\" => 3.4,\n",
        "        \"k_att\" => 0.16,\n",
        "        \"k_int\" => 3.0,\n",
        "        \"k_ccc\" => 0.65,\n",
        "        \"k_di\" => 1.9,\n",
        "        \"k_dc\" => 0.12,\n",
        "        \"K\" => 3.7,\n",
        "    )\n",
        "    sol = virus_dinamics(v, p)\n",
        "    u = reduce(hcat, sol.u)\n",
        "    \n",
        "    dinamics_plot = plot(\n",
        "        sol.t,\n",
        "        [u[1, :] u[2, :] u[3, :] u[4, :]],\n",
        "        title=\"Virus dinamics\",\n",
        "        xlabel=\"Day\",\n",
        "        ylabel=\"Virus\",\n",
        "        label=[\"dissociate\" \"attach\" \"internalization\" \"cccDNA\"],\n",
        "        color=[:blue :orange :red :firebrick],\n",
        "    )\n",
        "    cccDNA_plot = plot(\n",
        "        sol.t,\n",
        "        u[4, :],\n",
        "        title=\"cccDNA dinamics\",\n",
        "        xlabel=\"Day\",\n",
        "        ylabel=\"cccDNA\",\n",
        "        label=\"cccDNA\",\n",
        "        color=:firebrick,\n",
        "    )\n",
        "        \n",
        "    plot(\n",
        "        dinamics_plot,\n",
        "        cccDNA_plot,\n",
        "        size=(900, 300),\n",
        "        left_margin = 20Plots.px,\n",
        "        bottom_margin = 20Plots.px,\n",
        "    )\n",
        "end"
      ],
      "id": "cell-fig-HBV-all"
    },
    {
      "cell_type": "code",
      "execution_count": 5,
      "metadata": {},
      "outputs": [],
      "source": [
        "let\n",
        "    v::Dict{String, Float64} = Dict(\n",
        "        \"V_dis\" => 1.0,\n",
        "        \"V_att\" => 150.0,\n",
        "        \"V_int\" => 1.0,\n",
        "        \"V_ccc\" => 1.0,\n",
        "    )\n",
        "    p::Dict{String, Float64} = Dict(\n",
        "        \"k_dis\" => 3.4,\n",
        "        \"k_att\" => 0.16,\n",
        "        \"k_int\" => 3.0,\n",
        "        \"k_ccc\" => 0.65,\n",
        "        \"k_di\" => 1.9,\n",
        "        \"k_dc\" => 0.12,\n",
        "        \"K\" => 3.7,\n",
        "    )\n",
        "    \n",
        "    inhibition_rate = Vector(0:0.01:1)\n",
        "    \n",
        "    u_att::Vector{Float64} = Vector()\n",
        "    u_int::Vector{Float64} = Vector()\n",
        "    u_ccc::Vector{Float64} = Vector()\n",
        "    \n",
        "    for alpha = inhibition_rate\n",
        "        p[\"k_att\"] = (1 - alpha) * 0.16\n",
        "        sol = virus_dinamics(v, p, 12.0)\n",
        "        u = reduce(hcat, sol.u)\n",
        "        push!(u_att, u[4, end])\n",
        "    end\n",
        "    p[\"k_att\"] = 0.16\n",
        "    \n",
        "    for alpha = inhibition_rate\n",
        "        p[\"k_int\"] = (1 - alpha) * 3.0\n",
        "        sol = virus_dinamics(v, p, 12.0)\n",
        "        u = reduce(hcat, sol.u)\n",
        "        push!(u_int, u[4, end])\n",
        "    end\n",
        "    p[\"k_int\"] = 3.0\n",
        "    \n",
        "    for alpha = inhibition_rate\n",
        "        p[\"k_ccc\"] = (1 - alpha) * 0.65\n",
        "        sol = virus_dinamics(v, p, 12.0)\n",
        "        u = reduce(hcat, sol.u)\n",
        "        push!(u_ccc, u[4, end])\n",
        "    end\n",
        "    p[\"k_ccc\"] = 0.65\n",
        "    \n",
        "    cccDNA_plot = plot(\n",
        "        inhibition_rate,\n",
        "        [u_att u_int u_ccc],\n",
        "        title=\"Inhibition rate effect\",\n",
        "        xlabel=\"Inhibition rate\",\n",
        "        ylabel=\"cccDNA (after 12 days)\",\n",
        "        label=[\"attach\" \"internalization\" \"cccDNA\"],\n",
        "    )\n",
        "        \n",
        "    plot(\n",
        "        cccDNA_plot,\n",
        "        size=(600, 300),\n",
        "        left_margin = 20Plots.px,\n",
        "        bottom_margin = 20Plots.px,\n",
        "        legend=:outertopright,\n",
        "    )\n",
        "end"
      ],
      "id": "cell-fig-HBV-inhibition"
    },
    {
      "cell_type": "code",
      "execution_count": 3,
      "metadata": {},
      "outputs": [
        {
          "output_type": "display_data",
          "metadata": {},
          "data": {
            "text/plain": [
              "virus_dinamics (generic function with 2 methods)"
            ]
          }
        }
      ],
      "source": [
        "function virus_dinamics(\n",
        "    v::Dict{String, Float64},\n",
        "    p::Dict{String, Float64},\n",
        "    t_end::Float64=70.0 / 24.0,\n",
        ")\n",
        "    @independent_variables t\n",
        "    @variables V_dis(t)=v[\"V_dis\"]\n",
        "    @variables V_att(t)=v[\"V_att\"]\n",
        "    @variables V_int(t)=v[\"V_int\"]\n",
        "    @variables V_ccc(t)=v[\"V_ccc\"]\n",
        "    @parameters k_dis=p[\"k_dis\"]\n",
        "    @parameters k_att=p[\"k_att\"]\n",
        "    @parameters k_int=p[\"k_int\"]\n",
        "    @parameters k_ccc=p[\"k_ccc\"]\n",
        "    @parameters k_di=p[\"k_di\"]\n",
        "    @parameters k_dc=p[\"k_dc\"]\n",
        "    @parameters K=p[\"K\"]\n",
        "    \n",
        "    D = Differential(t)\n",
        "    eqs = [\n",
        "        D(V_dis) ~ k_dis * V_att - k_att * V_dis\n",
        "        D(V_att) ~ k_att * V_dis - k_dis * V_att - k_int * V_att\n",
        "        D(V_int) ~ k_int * V_att - k_ccc * (1 - V_ccc / K) * V_int - k_di * V_int\n",
        "        D(V_ccc) ~ k_ccc * (1 - V_ccc / K) * V_int - k_dc * V_ccc\n",
        "    ]\n",
        "    @mtkbuild sys = ODESystem(eqs, t)\n",
        "    \n",
        "    tspan = (0.0, t_end)\n",
        "    prob = ODEProblem(sys, [], tspan)\n",
        "    return solve(prob)\n",
        "end"
      ],
      "id": "18c5b94e-c209-4fff-a8a3-d266b955339f"
    }
  ],
  "nbformat": 4,
  "nbformat_minor": 5,
  "metadata": {
    "kernelspec": {
      "name": "julia-1.11",
      "display_name": "Julia 1.11.3",
      "language": "julia"
    },
    "language_info": {
      "name": "julia",
      "file_extension": ".jl",
      "mimetype": "application/julia",
      "version": "1.11.3"
    }
  }
}