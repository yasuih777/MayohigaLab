{
  "cells": [
    {
      "cell_type": "markdown",
      "metadata": {},
      "source": [
        "# Compatibility intervalについて: 補足資料"
      ],
      "id": "b15c2694-4c86-4e20-91d5-2043fe32abca"
    },
    {
      "cell_type": "code",
      "execution_count": 2,
      "metadata": {
        "vscode": {
          "languageId": "r"
        }
      },
      "outputs": [],
      "source": [
        "library(\"ggplot2\")\n",
        "library(\"gridExtra\")\n",
        "\n",
        "set.seed(42)"
      ],
      "id": "95457782-9345-45e8-a07d-9f74ddf047c3"
    },
    {
      "cell_type": "markdown",
      "metadata": {},
      "source": [
        "# 二項検定のP値関数"
      ],
      "id": "980e7243-56a0-4d53-9af6-7d7f9cd4064c"
    },
    {
      "cell_type": "code",
      "execution_count": 3,
      "metadata": {
        "vscode": {
          "languageId": "r"
        }
      },
      "outputs": [
        {
          "output_type": "display_data",
          "metadata": {},
          "data": {}
        }
      ],
      "source": [
        "alpha <- 0.05\n",
        "\n",
        "x <- (0:100) / 100\n",
        "\n",
        "y1 <- sapply(x, function(t) binom.test(25, 50, t)$p.value)\n",
        "lh1 <- x[which.max(y1)]\n",
        "cl1 <- uniroot(function(t) binom.test(25, 50, t)$p.value - alpha, c(0.0, 0.5))$root\n",
        "cu1 <- uniroot(function(t) binom.test(25, 50, t)$p.value - alpha, c(0.5, 1.0))$root\n",
        "\n",
        "g1 <- ggplot(mapping=aes(x=x, y=y1)) +\n",
        "  geom_line() +\n",
        "  geom_line(mapping=aes(x=c(cl1, cu1), y=c(alpha, alpha)), color=\"red\", linewidth=2) +\n",
        "  geom_point(mapping=aes(x=c(lh1), y=c(max(y1))), color=\"red\", size=2.5) +\n",
        "  geom_hline(yintercept=alpha, linetype=\"dashed\") +\n",
        "  geom_vline(xintercept=cl1, linetype=\"dashed\") +\n",
        "  geom_vline(xintercept=cu1, linetype=\"dashed\") +\n",
        "  labs(\n",
        "    title=\"N=50, success=25\",\n",
        "    x=\"theta\",\n",
        "    y=\"P-value\",\n",
        "  )\n",
        "\n",
        "y2 <- sapply(x, function(t) binom.test(50, 100, t)$p.value)\n",
        "lh2 <- x[which.max(y2)]\n",
        "cl2 <- uniroot(function(t) binom.test(50, 100, t)$p.value - alpha, c(0.0, 0.5))$root\n",
        "cu2 <- uniroot(function(t) binom.test(50, 100, t)$p.value - alpha, c(0.5, 1.0))$root\n",
        "\n",
        "g2 <- ggplot(mapping=aes(x=x, y=y2)) +\n",
        "  geom_line() +\n",
        "  geom_line(mapping=aes(x=c(cl2, cu2), y=c(alpha, alpha)), color=\"red\", linewidth=2) +\n",
        "  geom_point(mapping=aes(x=c(lh2), y=c(max(y2))), color=\"red\", size=2.5) +\n",
        "  geom_hline(yintercept=alpha, linetype=\"dashed\") +\n",
        "  geom_vline(xintercept=cl2, linetype=\"dashed\") +\n",
        "  geom_vline(xintercept=cu2, linetype=\"dashed\") +\n",
        "  labs(\n",
        "    title=\"N=100, success=50\",\n",
        "    x=\"theta\",\n",
        "    y=\"P-value\",\n",
        "  )\n",
        "\n",
        "grid.arrange(g1, g2)"
      ],
      "id": "cell-fig-binormtest-pvalue"
    },
    {
      "cell_type": "code",
      "execution_count": 4,
      "metadata": {
        "vscode": {
          "languageId": "r"
        }
      },
      "outputs": [
        {
          "output_type": "stream",
          "name": "stdout",
          "text": [
            "[1] 0.3588326 0.6411674 0.5000000\n",
            "[1] 0.3996556 0.6003444 0.5000000"
          ]
        }
      ],
      "source": [
        "print(c(cl1, cu1, lh1))\n",
        "print(c(cl2, cu2, lh2))"
      ],
      "id": "6266a4d6"
    }
  ],
  "nbformat": 4,
  "nbformat_minor": 5,
  "metadata": {
    "kernelspec": {
      "name": "ir",
      "display_name": "R",
      "language": "R"
    },
    "language_info": {
      "name": "R",
      "codemirror_mode": "r",
      "file_extension": ".r",
      "mimetype": "text/x-r-source",
      "pygments_lexer": "r",
      "version": "4.4.3"
    }
  }
}