{
 "cells": [
  {
   "cell_type": "raw",
   "id": "9ed41da0-c95d-424a-b015-ef2347bbdd95",
   "metadata": {
    "vscode": {
     "languageId": "raw"
    }
   },
   "source": [
    "---\n",
    "date: now\n",
    "code-fold: false\n",
    "format:\n",
    "  html:\n",
    "    other-links:\n",
    "      - text: 記事に戻る\n",
    "        href: ./index.html\n",
    "---"
   ]
  }
 ],
 "metadata": {
  "kernelspec": {
   "display_name": "R",
   "language": "R",
   "name": "ir"
  },
  "language_info": {
   "name": "R"
  }
 },
 "nbformat": 4,
 "nbformat_minor": 5
}
