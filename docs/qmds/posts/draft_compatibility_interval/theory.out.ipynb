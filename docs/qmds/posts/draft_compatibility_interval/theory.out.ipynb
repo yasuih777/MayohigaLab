{
  "cells": [
    {
      "cell_type": "markdown",
      "metadata": {},
      "source": [
        "# Non title"
      ],
      "id": "68d81ab8-b7b8-4437-bb57-4ec2c50a2ad3"
    },
    {
      "cell_type": "code",
      "execution_count": 2,
      "metadata": {},
      "outputs": [
        {
          "output_type": "stream",
          "name": "stdout",
          "text": [
            "Quarto 1.6.40\n",
            "[✓] Checking environment information...\n",
            "      Quarto cache location: /root/.cache/quarto\n",
            "[✓] Checking versions of quarto binary dependencies...\n",
            "      Pandoc version 3.4.0: OK\n",
            "      Dart Sass version 1.70.0: OK\n",
            "      Deno version 1.46.3: OK\n",
            "      Typst version 0.11.0: OK\n",
            "[✓] Checking versions of quarto dependencies......OK\n",
            "[✓] Checking Quarto installation......OK\n",
            "      Version: 1.6.40\n",
            "      Path: /opt/quarto/bin\n",
            "\n",
            "[✓] Checking tools....................OK\n",
            "      TinyTeX: (not installed)\n",
            "      Chromium: (not installed)\n",
            "\n",
            "[✓] Checking LaTeX....................OK\n",
            "      Tex:  (not detected)\n",
            "\n",
            "[✓] Checking basic markdown render....OK\n",
            "\n",
            "[✓] Checking Python 3 installation....OK\n",
            "      Version: 3.12.3\n",
            "      Path: /web_source/.venv/bin/python3\n",
            "      Jupyter: 5.7.2\n",
            "      Kernels: python3, julia-1.11, ir\n",
            "\n",
            "[✓] Checking Jupyter engine render....OK\n",
            "\n",
            "[✓] Checking R installation...........OK\n",
            "      Version: 4.3.3\n",
            "      Path: /usr/lib/R\n",
            "      LibPaths:\n",
            "        - /usr/local/lib/R/site-library\n",
            "        - /usr/lib/R/site-library\n",
            "        - /usr/lib/R/library\n",
            "      knitr: (None)\n",
            "      rmarkdown: (None)\n",
            "\n",
            "      The knitr package is not available in this R installation.\n",
            "      Install with install.packages(\"knitr\")\n",
            "      The rmarkdown package is not available in this R installation.\n",
            "      Install with install.packages(\"rmarkdown\")\n"
          ]
        }
      ],
      "source": [
        "!quarto check"
      ],
      "id": "604e9b9e-6d81-4b8e-9e7b-d2dcb4102941"
    }
  ],
  "nbformat": 4,
  "nbformat_minor": 5,
  "metadata": {
    "kernelspec": {
      "name": "python3",
      "display_name": "Python 3 (ipykernel)",
      "language": "python"
    },
    "language_info": {
      "name": "python",
      "codemirror_mode": {
        "name": "ipython",
        "version": "3"
      },
      "file_extension": ".py",
      "mimetype": "text/x-python",
      "nbconvert_exporter": "python",
      "pygments_lexer": "ipython3",
      "version": "3.12.3"
    }
  }
}